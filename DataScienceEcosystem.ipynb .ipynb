{
 "cells": [
  {
   "cell_type": "markdown",
   "id": "e6a45ee1-44aa-47f5-9432-6cfe8c35a069",
   "metadata": {
    "tags": []
   },
   "source": [
    "### Exercise 2 - Title of the Notebook"
   ]
  },
  {
   "cell_type": "markdown",
   "id": "e2475920-b611-4d13-a82e-419650211d3b",
   "metadata": {
    "tags": []
   },
   "source": [
    "# Data Science Tools and Ecosystem"
   ]
  },
  {
   "cell_type": "markdown",
   "id": "321ffef5-86ff-418c-9aba-901a0936d7cf",
   "metadata": {},
   "source": [
    "### Exercise 3 - Introduction"
   ]
  },
  {
   "cell_type": "markdown",
   "id": "501505d1-beed-4e05-a863-b4cd7294f37e",
   "metadata": {},
   "source": [
    "In this notebook, Data Science Tools and Ecosystem are summarized."
   ]
  },
  {
   "cell_type": "markdown",
   "id": "befbbbfc-40d5-4345-aad4-50ed1ec0b5df",
   "metadata": {},
   "source": [
    "### Exercise 4 - List of Data Science Languages"
   ]
  },
  {
   "cell_type": "markdown",
   "id": "2e04e4a1-a7a4-4ec2-ac00-71bf118e0c6b",
   "metadata": {
    "tags": []
   },
   "source": [
    "Some of the popular languages that Data Scientists use are:\n",
    "\n",
    "    1. Python\n",
    "    2. R\n",
    "    3. Julia"
   ]
  },
  {
   "cell_type": "markdown",
   "id": "1e8fa57d-358e-426f-88cd-7a38355d5133",
   "metadata": {},
   "source": [
    "### Exercise 5 - List of Data Science Libraries"
   ]
  },
  {
   "cell_type": "markdown",
   "id": "1899892e-8382-4ec0-bf0a-e29e5d89d29a",
   "metadata": {},
   "source": [
    "Some of the commonly used libraries used by Data Scientists include:\n",
    "    \n",
    "    1. NumPy\n",
    "    2. Pandas\n",
    "    3. Matplotlib\n",
    "    4. Seaborn\n",
    "    5. Scikit-Learn\n",
    "    6. TensorFlow\n",
    "    7. Keras"
   ]
  },
  {
   "cell_type": "markdown",
   "id": "e3e2eb2b-2126-4554-bc20-6f7485052495",
   "metadata": {},
   "source": [
    "### Exercise 6 - Table of Data Science Tools"
   ]
  },
  {
   "cell_type": "markdown",
   "id": "258a7811-ef7c-4e6b-8dee-3471b87c2bb9",
   "metadata": {
    "tags": []
   },
   "source": [
    "|  Data Science Tools  |\n",
    "|        ---           |\n",
    "|       Jupyter        |\n",
    "|      Excel           |\n",
    "|      Tableau         |\n",
    "\n"
   ]
  },
  {
   "cell_type": "markdown",
   "id": "89fb37a7-77de-4f2e-b801-711c62743a1e",
   "metadata": {},
   "source": [
    "### Exercise 7 - Introduction to Arithmetic Expressions"
   ]
  },
  {
   "cell_type": "markdown",
   "id": "1fb75936-c6ba-4de5-b622-00ac9239312b",
   "metadata": {},
   "source": [
    "### Below are a few examples of evaluating arithmetic expressions in Python"
   ]
  },
  {
   "cell_type": "code",
   "execution_count": 7,
   "id": "ea6a7d8e-25d1-4430-869a-0ef080fdbdb8",
   "metadata": {
    "tags": []
   },
   "outputs": [
    {
     "data": {
      "text/plain": [
       "17"
      ]
     },
     "execution_count": 7,
     "metadata": {},
     "output_type": "execute_result"
    }
   ],
   "source": [
    "#This a simple arithmetic expression to mutiply then add integers\n",
    "(3*4)+5"
   ]
  },
  {
   "cell_type": "code",
   "execution_count": 8,
   "id": "c114280f-8e62-41dc-a494-0697eaef5380",
   "metadata": {
    "tags": []
   },
   "outputs": [
    {
     "name": "stdout",
     "output_type": "stream",
     "text": [
      "200 minutes are 3.33 hours, which rounds down to 3 hours\n"
     ]
    }
   ],
   "source": [
    "import math\n",
    "#This will convert 200 minutes to hours by diving by 60\n",
    "\n",
    "\n",
    "def minutes_to_hours(min):\n",
    "    rounded_down = math.floor(min/60)\n",
    "    exact = format(min/60, '.2f')\n",
    "    return print(f\"{min} minutes are {exact} hours, which rounds down to {rounded_down} hours\")\n",
    "\n",
    "min = 200\n",
    "minutes_to_hours(min)\n"
   ]
  },
  {
   "cell_type": "markdown",
   "id": "5c09f49b-62a5-47af-9f56-cb74c09afb9b",
   "metadata": {},
   "source": [
    "### Exercise 10 - Objectives"
   ]
  },
  {
   "cell_type": "markdown",
   "id": "c4d8d74c-4bae-457c-81dc-aebda547b2ab",
   "metadata": {},
   "source": [
    "**Objectives:**\n",
    "\n",
    "    -  Learn about data science languages and libraries\n",
    "    -  Explore data science tools and their descriptions\n",
    "    -  Practice statistical expressions in Python\n",
    "    -  Explore Machine Learning libraries with Keras"
   ]
  },
  {
   "cell_type": "markdown",
   "id": "00106585-979f-460e-9df2-ccd54d476254",
   "metadata": {},
   "source": [
    "### Exercise 11 - Author's Name"
   ]
  },
  {
   "cell_type": "markdown",
   "id": "c1dd15b6-157a-4530-a936-7e4d1cf36b5b",
   "metadata": {
    "tags": []
   },
   "source": [
    "## Author\n",
    "Steve Fisher"
   ]
  }
 ],
 "metadata": {
  "kernelspec": {
   "display_name": "Python",
   "language": "python",
   "name": "conda-env-python-py"
  },
  "language_info": {
   "codemirror_mode": {
    "name": "ipython",
    "version": 3
   },
   "file_extension": ".py",
   "mimetype": "text/x-python",
   "name": "python",
   "nbconvert_exporter": "python",
   "pygments_lexer": "ipython3",
   "version": "3.7.12"
  }
 },
 "nbformat": 4,
 "nbformat_minor": 5
}

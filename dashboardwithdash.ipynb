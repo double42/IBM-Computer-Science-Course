{
  "nbformat": 4,
  "nbformat_minor": 0,
  "metadata": {
    "colab": {
      "provenance": []
    },
    "kernelspec": {
      "name": "python3",
      "display_name": "Python 3"
    },
    "language_info": {
      "name": "python"
    }
  },
  "cells": [
    {
      "cell_type": "code",
      "execution_count": 1,
      "metadata": {
        "colab": {
          "base_uri": "https://localhost:8080/"
        },
        "id": "0yvwJzdTIbsJ",
        "outputId": "e318a99f-80ee-42bc-85dc-4f615c6f7ef2"
      },
      "outputs": [
        {
          "output_type": "stream",
          "name": "stdout",
          "text": [
            "Collecting httpx==0.20\n",
            "  Downloading httpx-0.20.0-py3-none-any.whl (82 kB)\n",
            "\u001b[2K     \u001b[90m━━━━━━━━━━━━━━━━━━━━━━━━━━━━━━━━━━━━━━━━\u001b[0m \u001b[32m82.5/82.5 kB\u001b[0m \u001b[31m931.9 kB/s\u001b[0m eta \u001b[36m0:00:00\u001b[0m\n",
            "\u001b[?25hCollecting dash\n",
            "  Downloading dash-2.14.2-py3-none-any.whl (10.2 MB)\n",
            "\u001b[2K     \u001b[90m━━━━━━━━━━━━━━━━━━━━━━━━━━━━━━━━━━━━━━━━\u001b[0m \u001b[32m10.2/10.2 MB\u001b[0m \u001b[31m42.3 MB/s\u001b[0m eta \u001b[36m0:00:00\u001b[0m\n",
            "\u001b[?25hRequirement already satisfied: plotly in /usr/local/lib/python3.10/dist-packages (5.15.0)\n",
            "Requirement already satisfied: certifi in /usr/local/lib/python3.10/dist-packages (from httpx==0.20) (2023.11.17)\n",
            "Requirement already satisfied: charset-normalizer in /usr/local/lib/python3.10/dist-packages (from httpx==0.20) (3.3.2)\n",
            "Requirement already satisfied: sniffio in /usr/local/lib/python3.10/dist-packages (from httpx==0.20) (1.3.0)\n",
            "Collecting rfc3986[idna2008]<2,>=1.3 (from httpx==0.20)\n",
            "  Downloading rfc3986-1.5.0-py2.py3-none-any.whl (31 kB)\n",
            "Collecting httpcore<0.14.0,>=0.13.3 (from httpx==0.20)\n",
            "  Downloading httpcore-0.13.7-py3-none-any.whl (58 kB)\n",
            "\u001b[2K     \u001b[90m━━━━━━━━━━━━━━━━━━━━━━━━━━━━━━━━━━━━━━━━\u001b[0m \u001b[32m58.8/58.8 kB\u001b[0m \u001b[31m5.6 MB/s\u001b[0m eta \u001b[36m0:00:00\u001b[0m\n",
            "\u001b[?25hRequirement already satisfied: Flask<3.1,>=1.0.4 in /usr/local/lib/python3.10/dist-packages (from dash) (2.2.5)\n",
            "Requirement already satisfied: Werkzeug<3.1 in /usr/local/lib/python3.10/dist-packages (from dash) (3.0.1)\n",
            "Collecting dash-html-components==2.0.0 (from dash)\n",
            "  Downloading dash_html_components-2.0.0-py3-none-any.whl (4.1 kB)\n",
            "Collecting dash-core-components==2.0.0 (from dash)\n",
            "  Downloading dash_core_components-2.0.0-py3-none-any.whl (3.8 kB)\n",
            "Collecting dash-table==5.0.0 (from dash)\n",
            "  Downloading dash_table-5.0.0-py3-none-any.whl (3.9 kB)\n",
            "Requirement already satisfied: typing-extensions>=4.1.1 in /usr/local/lib/python3.10/dist-packages (from dash) (4.5.0)\n",
            "Requirement already satisfied: requests in /usr/local/lib/python3.10/dist-packages (from dash) (2.31.0)\n",
            "Collecting retrying (from dash)\n",
            "  Downloading retrying-1.3.4-py3-none-any.whl (11 kB)\n",
            "Collecting ansi2html (from dash)\n",
            "  Downloading ansi2html-1.9.1-py3-none-any.whl (17 kB)\n",
            "Requirement already satisfied: nest-asyncio in /usr/local/lib/python3.10/dist-packages (from dash) (1.6.0)\n",
            "Requirement already satisfied: setuptools in /usr/local/lib/python3.10/dist-packages (from dash) (67.7.2)\n",
            "Requirement already satisfied: importlib-metadata in /usr/local/lib/python3.10/dist-packages (from dash) (7.0.1)\n",
            "Requirement already satisfied: tenacity>=6.2.0 in /usr/local/lib/python3.10/dist-packages (from plotly) (8.2.3)\n",
            "Requirement already satisfied: packaging in /usr/local/lib/python3.10/dist-packages (from plotly) (23.2)\n",
            "Requirement already satisfied: Jinja2>=3.0 in /usr/local/lib/python3.10/dist-packages (from Flask<3.1,>=1.0.4->dash) (3.1.3)\n",
            "Requirement already satisfied: itsdangerous>=2.0 in /usr/local/lib/python3.10/dist-packages (from Flask<3.1,>=1.0.4->dash) (2.1.2)\n",
            "Requirement already satisfied: click>=8.0 in /usr/local/lib/python3.10/dist-packages (from Flask<3.1,>=1.0.4->dash) (8.1.7)\n",
            "Collecting h11<0.13,>=0.11 (from httpcore<0.14.0,>=0.13.3->httpx==0.20)\n",
            "  Downloading h11-0.12.0-py3-none-any.whl (54 kB)\n",
            "\u001b[2K     \u001b[90m━━━━━━━━━━━━━━━━━━━━━━━━━━━━━━━━━━━━━━━━\u001b[0m \u001b[32m54.9/54.9 kB\u001b[0m \u001b[31m6.3 MB/s\u001b[0m eta \u001b[36m0:00:00\u001b[0m\n",
            "\u001b[?25hRequirement already satisfied: anyio==3.* in /usr/local/lib/python3.10/dist-packages (from httpcore<0.14.0,>=0.13.3->httpx==0.20) (3.7.1)\n",
            "Requirement already satisfied: idna>=2.8 in /usr/local/lib/python3.10/dist-packages (from anyio==3.*->httpcore<0.14.0,>=0.13.3->httpx==0.20) (3.6)\n",
            "Requirement already satisfied: exceptiongroup in /usr/local/lib/python3.10/dist-packages (from anyio==3.*->httpcore<0.14.0,>=0.13.3->httpx==0.20) (1.2.0)\n",
            "Requirement already satisfied: MarkupSafe>=2.1.1 in /usr/local/lib/python3.10/dist-packages (from Werkzeug<3.1->dash) (2.1.4)\n",
            "Requirement already satisfied: zipp>=0.5 in /usr/local/lib/python3.10/dist-packages (from importlib-metadata->dash) (3.17.0)\n",
            "Requirement already satisfied: urllib3<3,>=1.21.1 in /usr/local/lib/python3.10/dist-packages (from requests->dash) (2.0.7)\n",
            "Requirement already satisfied: six>=1.7.0 in /usr/local/lib/python3.10/dist-packages (from retrying->dash) (1.16.0)\n",
            "Installing collected packages: rfc3986, dash-table, dash-html-components, dash-core-components, retrying, h11, ansi2html, httpcore, httpx, dash\n",
            "Successfully installed ansi2html-1.9.1 dash-2.14.2 dash-core-components-2.0.0 dash-html-components-2.0.0 dash-table-5.0.0 h11-0.12.0 httpcore-0.13.7 httpx-0.20.0 retrying-1.3.4 rfc3986-1.5.0\n",
            "Requirement already satisfied: packaging in /usr/local/lib/python3.10/dist-packages (23.2)\n"
          ]
        }
      ],
      "source": [
        "!pip3 install httpx==0.20 dash plotly\n",
        "!python3 -m pip install packaging"
      ]
    },
    {
      "cell_type": "code",
      "source": [
        "import dash\n",
        "from dash import html, dcc, Input, Output\n",
        "import pandas as pd\n",
        "import plotly.express as px\n"
      ],
      "metadata": {
        "id": "KByrjDkOIdSb"
      },
      "execution_count": 2,
      "outputs": []
    },
    {
      "cell_type": "code",
      "source": [
        "# Replace 'your_dataset.csv' with the path to your dataset\n",
        "data = pd.read_csv('https://cf-courses-data.s3.us.cloud-object-storage.appdomain.cloud/IBMDeveloperSkillsNetwork-DV0101EN-SkillsNetwork/Data%20Files/historical_automobile_sales.csv')"
      ],
      "metadata": {
        "id": "5a4ngbWVIfh_"
      },
      "execution_count": 15,
      "outputs": []
    },
    {
      "cell_type": "code",
      "source": [
        "import dash\n",
        "from dash import dcc\n",
        "from dash import html\n",
        "from dash.dependencies import Input, Output\n",
        "import pandas as pd\n",
        "import plotly.express as px\n",
        "\n",
        "# Load the data using pandas\n",
        "\n",
        "\n",
        "# Ensure correct data types\n",
        "data['Year'] = data['Year'].astype(int)\n",
        "data['Recession'] = data['Recession'].astype(int)\n",
        "\n",
        "# Initialize the Dash app\n",
        "app = dash.Dash(__name__)\n",
        "\n",
        "# List of years\n",
        "year_list = data['Year'].unique()\n",
        "\n",
        "# Create the layout of the app\n",
        "app.layout = html.Div([\n",
        "    html.H1(\"Automobile Statistics Dashboard\", style={'color': '#503D36', 'textAlign': 'center'}),\n",
        "    html.Div([\n",
        "        html.Label(\"Select Statistics:\"),\n",
        "        dcc.Dropdown(\n",
        "            id='dropdown-statistics',\n",
        "            options=[\n",
        "                {'label': 'Yearly Statistics', 'value': 'yearly'},\n",
        "                {'label': 'Recession Period Statistics', 'value': 'recession'}\n",
        "            ],\n",
        "            value='yearly'\n",
        "        )\n",
        "    ]),\n",
        "    html.Div([\n",
        "        dcc.Dropdown(\n",
        "            id='select-year',\n",
        "            options=[{'label': i, 'value': i} for i in year_list],\n",
        "            value=year_list.max() if year_list.size > 0 else None\n",
        "        )\n",
        "    ], style={'display': 'block'}),\n",
        "    html.Div(id='output-container', className='chart-grid', style={'display': 'flex'})\n",
        "])\n",
        "\n",
        "# Callback to enable/disable year dropdown based on statistics type\n",
        "@app.callback(\n",
        "    Output('select-year', 'style'),\n",
        "    Input('dropdown-statistics', 'value')\n",
        ")\n",
        "def update_year_dropdown_style(statistics_type):\n",
        "    if statistics_type == 'yearly':\n",
        "        return {'display': 'block'}\n",
        "    else:\n",
        "        return {'display': 'none'}\n",
        "\n",
        "# Callback for updating graphs\n",
        "@app.callback(\n",
        "    Output('output-container', 'children'),\n",
        "    [Input('dropdown-statistics', 'value'), Input('select-year', 'value')]\n",
        ")\n",
        "def update_output_container(statistics_type, selected_year):\n",
        "    graphs = []\n",
        "\n",
        "    if statistics_type == 'recession':\n",
        "        recession_data = data[data['Recession'] == 1]\n",
        "\n",
        "        # Recession Period Statistics Graphs\n",
        "        # Graph 1: Yearly Automobile Sales\n",
        "        yearly_sales = recession_data.groupby('Year')['Automobile_Sales'].sum().reset_index()\n",
        "        graphs.append(dcc.Graph(\n",
        "            figure=px.line(yearly_sales, x='Year', y='Automobile_Sales', title='Yearly Automobile Sales During Recession')\n",
        "        ))\n",
        "\n",
        "        # Graph 2: Total Monthly Automobile Sales\n",
        "        monthly_sales = recession_data.groupby(['Year', 'Month'])['Automobile_Sales'].sum().reset_index()\n",
        "        graphs.append(dcc.Graph(\n",
        "            figure=px.line(monthly_sales, x='Month', y='Automobile_Sales', color='Year', title='Total Monthly Automobile Sales During Recession')\n",
        "        ))\n",
        "\n",
        "        # Graph 3: Average Vehicles Sold by Vehicle Type\n",
        "        avg_vehicles_sold = recession_data.groupby('Vehicle_Type')['Automobile_Sales'].mean().reset_index()\n",
        "        graphs.append(dcc.Graph(\n",
        "            figure=px.bar(avg_vehicles_sold, x='Vehicle_Type', y='Automobile_Sales', title='Average Vehicles Sold by Vehicle Type During Recession')\n",
        "        ))\n",
        "\n",
        "        # Graph 4: Total Advertisement Expenditure for Each Vehicle\n",
        "        ad_exp = recession_data.groupby('Vehicle_Type')['Advertising_Expenditure'].sum().reset_index()\n",
        "        graphs.append(dcc.Graph(\n",
        "            figure=px.pie(ad_exp, names='Vehicle_Type', values='Advertising_Expenditure', title='Total Advertisement Expenditure for Each Vehicle During Recession')\n",
        "        ))\n",
        "\n",
        "    elif statistics_type == 'yearly':\n",
        "        yearly_data = data[data['Year'] == selected_year]\n",
        "\n",
        "        # Yearly Statistics Graphs\n",
        "        # Graph 1: Monthly Automobile Sales\n",
        "        sales_by_month = yearly_data.groupby('Month')['Automobile_Sales'].sum().reset_index()\n",
        "        graphs.append(dcc.Graph(\n",
        "            figure=px.line(sales_by_month, x='Month', y='Automobile_Sales', title='Monthly Automobile Sales')\n",
        "        ))\n",
        "\n",
        "        # Graph 2: Average Number of Vehicles Sold by Vehicle Type\n",
        "        avg_vehicles_sold_yearly = yearly_data.groupby('Vehicle_Type')['Automobile_Sales'].mean().reset_index()\n",
        "        graphs.append(dcc.Graph(\n",
        "            figure=px.bar(avg_vehicles_sold_yearly, x='Vehicle_Type', y='Automobile_Sales', title='Average Vehicles Sold by Vehicle Type')\n",
        "        ))\n",
        "\n",
        "        # Graph 3: Total Expenditure Share by Vehicle Type\n",
        "        total_expenditure = yearly_data.groupby('Vehicle_Type').agg({'Advertising_Expenditure': 'sum', 'Price': 'sum'}).reset_index()\n",
        "        total_expenditure['Total_Expenditure'] = total_expenditure['Advertising_Expenditure'] + total_expenditure['Price']\n",
        "        graphs.append(dcc.Graph(\n",
        "            figure=px.pie(total_expenditure, names='Vehicle_Type', values='Total_Expenditure', title='Total Expenditure Share by Vehicle Type')\n",
        "        ))\n",
        "\n",
        "        # Graph 4: Effect of Unemployment Rate on Vehicle Type and Sales\n",
        "        unemployment_effect = yearly_data.groupby('Vehicle_Type').agg({'Automobile_Sales': 'mean', 'unemployment_rate': 'mean'}).reset_index()\n",
        "        graphs.append(dcc.Graph(\n",
        "            figure=px.bar(unemployment_effect, x='Vehicle_Type', y='Automobile_Sales', color='unemployment_rate', title='Effect of Unemployment Rate on Vehicle Type and Sales')\n",
        "        ))\n",
        "\n",
        "    return graphs\n",
        "\n",
        "# Run the Dash app\n",
        "if __name__ == '__main__':\n",
        "    app.run_server(debug=True)"
      ],
      "metadata": {
        "colab": {
          "base_uri": "https://localhost:8080/",
          "height": 671
        },
        "id": "w9laXKr7IuzQ",
        "outputId": "c7a79244-b5f4-46dc-8de0-0eba63b2ed04"
      },
      "execution_count": 61,
      "outputs": [
        {
          "output_type": "display_data",
          "data": {
            "text/plain": [
              "<IPython.core.display.Javascript object>"
            ],
            "application/javascript": [
              "(async (port, path, width, height, cache, element) => {\n",
              "    if (!google.colab.kernel.accessAllowed && !cache) {\n",
              "      return;\n",
              "    }\n",
              "    element.appendChild(document.createTextNode(''));\n",
              "    const url = await google.colab.kernel.proxyPort(port, {cache});\n",
              "    const iframe = document.createElement('iframe');\n",
              "    iframe.src = new URL(path, url).toString();\n",
              "    iframe.height = height;\n",
              "    iframe.width = width;\n",
              "    iframe.style.border = 0;\n",
              "    iframe.allow = [\n",
              "        'accelerometer',\n",
              "        'autoplay',\n",
              "        'camera',\n",
              "        'clipboard-read',\n",
              "        'clipboard-write',\n",
              "        'gyroscope',\n",
              "        'magnetometer',\n",
              "        'microphone',\n",
              "        'serial',\n",
              "        'usb',\n",
              "        'xr-spatial-tracking',\n",
              "    ].join('; ');\n",
              "    element.appendChild(iframe);\n",
              "  })(8050, \"/\", \"100%\", 650, false, window.element)"
            ]
          },
          "metadata": {}
        }
      ]
    },
    {
      "cell_type": "code",
      "source": [],
      "metadata": {
        "id": "JCKycse4Xpbz"
      },
      "execution_count": null,
      "outputs": []
    }
  ]
}